{
  "nbformat": 4,
  "nbformat_minor": 0,
  "metadata": {
    "colab": {
      "provenance": [],
      "authorship_tag": "ABX9TyPModzAN2D6fXu/IIqminKA",
      "include_colab_link": true
    },
    "kernelspec": {
      "name": "python3",
      "display_name": "Python 3"
    },
    "language_info": {
      "name": "python"
    }
  },
  "cells": [
    {
      "cell_type": "markdown",
      "metadata": {
        "id": "view-in-github",
        "colab_type": "text"
      },
      "source": [
        "<a href=\"https://colab.research.google.com/github/MarcosACVieira/0_GERAL/blob/main/acessar_dados.ipynb\" target=\"_parent\"><img src=\"https://colab.research.google.com/assets/colab-badge.svg\" alt=\"Open In Colab\"/></a>"
      ]
    },
    {
      "cell_type": "code",
      "source": [
        "import yfinance as yf\n",
        "from time import sleep"
      ],
      "metadata": {
        "id": "T0AKRT-I8msf"
      },
      "execution_count": null,
      "outputs": []
    },
    {
      "cell_type": "code",
      "execution_count": null,
      "metadata": {
        "id": "IUWI4ptfoGYG"
      },
      "outputs": [],
      "source": [
        "from pydrive.auth import GoogleAuth\n",
        "from google.colab import drive\n",
        "from pydrive.drive import GoogleDrive\n",
        "from google.colab import auth\n",
        "from oauth2client.client import GoogleCredentials\n",
        "import pandas as pd\n",
        "from datetime import datetime\n",
        "from dateutil.relativedelta import relativedelta\n",
        "import numpy as np\n",
        "\n",
        "auth.authenticate_user()\n",
        "gauth = GoogleAuth()\n",
        "gauth.credentials = GoogleCredentials.get_application_default()\n",
        "drive = GoogleDrive(gauth)\n",
        "file_id = '1J0v42AlQ2Ba5WxkPzTL3uzdPiz_n9sBO'\n",
        "download = drive.CreateFile({'id': file_id})\n",
        "download.GetContentFile('file.csv')\n",
        "cnpjs_target = pd.read_csv(\"file.csv\")[['CNPJ_FUNDO','Banco']]"
      ]
    },
    {
      "cell_type": "code",
      "source": [
        "df_all = pd.DataFrame()\n",
        "months = 12\n",
        "for i in range(months) :\n",
        "    currentTimeDate = datetime.now() - relativedelta(months=i) #- timedelta(days=1)\n",
        "    currentMonth = currentTimeDate.strftime('%Y%m')\n",
        "    url = \"https://dados.cvm.gov.br/dados/FI/DOC/INF_DIARIO/DADOS/inf_diario_fi_\" + currentMonth + \".zip\"\n",
        "    print(url)\n",
        "    df = pd.read_csv(url, compression='zip', sep = ';')\n",
        "    df = df[df['CNPJ_FUNDO'].isin(cnpjs_target['CNPJ_FUNDO'])]\n",
        "    df_all = pd.concat([df_all,df])"
      ],
      "metadata": {
        "id": "VaxQDFQuqXha"
      },
      "execution_count": null,
      "outputs": []
    },
    {
      "cell_type": "code",
      "source": [
        "# ibov, nasdaq, dowjones,ouro,bitcoin, cripto,Europa, China"
      ],
      "metadata": {
        "id": "oALrRMvL8o_y"
      },
      "execution_count": null,
      "outputs": []
    },
    {
      "cell_type": "code",
      "source": [
        "yfin = yf.download(tickers = ['^BVSP','^IXIC', '^DJI','GC=F','BTC-USD','^CMC200','FEZ','000001.SS'], period = '5y')\n",
        "yfin = yfin[['Close']]\n",
        "yfin.columns = yfin.columns.droplevel()\n",
        "yfin['data'] = yfin.index\n",
        "yfin = yfin.rename(columns={\"^BVSP\": \"ibov\", \"^IXIC\": \"Nasdaq\", \"^DJI\": \"dowjones\", \"GC=F\": \"ouro\", \"BTC-USD\": \"Bitcoin\", \"^CMC200\": \"Criptos\", \"FEZ\": \"Europa\", \"000001.SS\": \"China\"})\n",
        "\n",
        "yfin"
      ],
      "metadata": {
        "id": "F7vKG_i_DTbP"
      },
      "execution_count": null,
      "outputs": []
    },
    {
      "cell_type": "code",
      "source": [
        "url = 'https://api.bcb.gov.br/dados/serie/bcdata.sgs.11/dados?formato=json'\n",
        "selic = pd.read_json(url)\n",
        "\n",
        "url = 'https://api.bcb.gov.br/dados/serie/bcdata.sgs.10844/dados?formato=json'\n",
        "ipca = pd.read_json(url)\n",
        "\n",
        "selic['data'] = pd.to_datetime(selic['data'], format='%d/%m/%Y')\n",
        "ipca['data'] = pd.to_datetime(ipca['data'], format='%d/%m/%Y')\n",
        "df_all['DT_COMPTC'] = pd.to_datetime(df_all['DT_COMPTC'])\n",
        "\n",
        "# selic = selic[selic['data'].isin(df_all['DT_COMPTC'])]\n",
        "# ipca = ipca[ipca['data'].isin(df_all['DT_COMPTC'])]\n",
        "\n",
        "# df_all = df_all[df_all['DT_COMPTC'].isin(selic['data'])]\n",
        "# df_all = df_all[df_all['DT_COMPTC'].isin(ipca['data'])]\n",
        "\n",
        "# selic = selic[selic['data'].isin(df_all['DT_COMPTC'])]\n",
        "# ipca = ipca[ipca['data'].isin(df_all['DT_COMPTC'])]\n",
        "\n",
        "pivot = pd.pivot_table(df_all, values='VL_QUOTA', index='DT_COMPTC', columns='CNPJ_FUNDO')\n",
        "selic = selic.set_index('data')\n",
        "ipca = ipca.set_index('data')\n"
      ],
      "metadata": {
        "id": "2x8_pPFBtjfV"
      },
      "execution_count": null,
      "outputs": []
    },
    {
      "cell_type": "code",
      "source": [
        "correl = pd.DataFrame()\n",
        "correl['cnpj'] = list(pivot)\n",
        "\n",
        "# acc =[]\n",
        "# for col in range(pivot.shape[1]) :\n",
        "#     pivot_col = pivot.iloc[:,col].dropna()\n",
        "#     selic_copy = selic.loc[pivot_col.index]\n",
        "#     acc = acc + [selic_copy.corrwith(pivot_col).iloc[0]]\n",
        "\n",
        "# correl['selic'] = list(acc)\n",
        "\n",
        "# acc =[]\n",
        "# for col in range(pivot.shape[1]) :\n",
        "#     pivot_col = pivot.iloc[:,col].dropna()\n",
        "#     ipca_copy = ipca.loc[pivot_col.index]\n",
        "#     acc = acc + [ipca_copy.corrwith(pivot_col).iloc[0]]\n",
        "\n",
        "# correl['ipca'] = list(acc)\n",
        "\n",
        "for k in range(len(list(yfin))-1) :\n",
        "    asset = list(yfin)[k]\n",
        "    acc =[]\n",
        "    for col in range(pivot.shape[1]) :\n",
        "        pivot_col = pivot.iloc[:,col].dropna()\n",
        "        yfin_copy = yfin[[asset,'data']]\n",
        "        yfin_copy = yfin_copy.loc[pivot_col.index]\n",
        "        acc = acc + [yfin_copy.corrwith(pivot_col).iloc[0]]\n",
        "\n",
        "    correl[asset] = list(acc)\n"
      ],
      "metadata": {
        "id": "KMVXO3B31o03"
      },
      "execution_count": null,
      "outputs": []
    },
    {
      "cell_type": "code",
      "source": [
        "correl"
      ],
      "metadata": {
        "id": "7vWNsdcXuvf6"
      },
      "execution_count": null,
      "outputs": []
    }
  ]
}